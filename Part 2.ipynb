{
 "cells": [
  {
   "cell_type": "code",
   "execution_count": 1,
   "metadata": {},
   "outputs": [],
   "source": [
    "#imports\n",
    "import numpy as np\n",
    "import pandas as pd\n",
    "import scipy\n",
    "from math import sqrt\n",
    "import matplotlib.pyplot as plt\n",
    "\n",
    "#estimators\n",
    "from sklearn.ensemble import RandomForestRegressor\n",
    "from sklearn.linear_model import LinearRegression\n",
    "from sklearn.svm import SVR\n",
    "from sklearn import linear_model\n",
    "\n",
    "#model metrics\n",
    "from sklearn.metrics import mean_squared_error\n",
    "from sklearn.metrics import r2_score\n",
    "from sklearn.model_selection import cross_val_score\n",
    "\n",
    "#cross validation\n",
    "from sklearn.model_selection import train_test_split\n",
    "\n",
    "#Classification\n",
    "from sklearn.tree import plot_tree\n",
    "from sklearn.metrics import classification_report\n",
    "from sklearn.tree import DecisionTreeClassifier\n",
    "from sklearn.datasets import load_digits\n",
    "from sklearn.ensemble import RandomForestClassifier\n"
   ]
  },
  {
   "cell_type": "code",
   "execution_count": 2,
   "metadata": {},
   "outputs": [
    {
     "data": {
      "text/html": [
       "<div>\n",
       "<style scoped>\n",
       "    .dataframe tbody tr th:only-of-type {\n",
       "        vertical-align: middle;\n",
       "    }\n",
       "\n",
       "    .dataframe tbody tr th {\n",
       "        vertical-align: top;\n",
       "    }\n",
       "\n",
       "    .dataframe thead th {\n",
       "        text-align: right;\n",
       "    }\n",
       "</style>\n",
       "<table border=\"1\" class=\"dataframe\">\n",
       "  <thead>\n",
       "    <tr style=\"text-align: right;\">\n",
       "      <th></th>\n",
       "      <th>LIMIT_BAL</th>\n",
       "      <th>MARRIAGE</th>\n",
       "      <th>AGE</th>\n",
       "      <th>PAY_0</th>\n",
       "      <th>PAY_2</th>\n",
       "      <th>PAY_3</th>\n",
       "      <th>PAY_4</th>\n",
       "      <th>PAY_5</th>\n",
       "      <th>PAY_6</th>\n",
       "      <th>BILL_AMT1</th>\n",
       "      <th>...</th>\n",
       "      <th>PAY_AMT4</th>\n",
       "      <th>PAY_AMT5</th>\n",
       "      <th>PAY_AMT6</th>\n",
       "      <th>default</th>\n",
       "      <th>SEX_female</th>\n",
       "      <th>SEX_male</th>\n",
       "      <th>EDUCATION_graduate school</th>\n",
       "      <th>EDUCATION_high school</th>\n",
       "      <th>EDUCATION_other</th>\n",
       "      <th>EDUCATION_university</th>\n",
       "    </tr>\n",
       "  </thead>\n",
       "  <tbody>\n",
       "    <tr>\n",
       "      <th>0</th>\n",
       "      <td>20000</td>\n",
       "      <td>1</td>\n",
       "      <td>24</td>\n",
       "      <td>2</td>\n",
       "      <td>2</td>\n",
       "      <td>-1</td>\n",
       "      <td>-1</td>\n",
       "      <td>-2</td>\n",
       "      <td>-2</td>\n",
       "      <td>3913</td>\n",
       "      <td>...</td>\n",
       "      <td>0</td>\n",
       "      <td>0</td>\n",
       "      <td>0</td>\n",
       "      <td>1</td>\n",
       "      <td>1</td>\n",
       "      <td>0</td>\n",
       "      <td>0</td>\n",
       "      <td>0</td>\n",
       "      <td>0</td>\n",
       "      <td>1</td>\n",
       "    </tr>\n",
       "    <tr>\n",
       "      <th>1</th>\n",
       "      <td>120000</td>\n",
       "      <td>2</td>\n",
       "      <td>26</td>\n",
       "      <td>-1</td>\n",
       "      <td>2</td>\n",
       "      <td>0</td>\n",
       "      <td>0</td>\n",
       "      <td>0</td>\n",
       "      <td>2</td>\n",
       "      <td>2682</td>\n",
       "      <td>...</td>\n",
       "      <td>1000</td>\n",
       "      <td>0</td>\n",
       "      <td>2000</td>\n",
       "      <td>1</td>\n",
       "      <td>1</td>\n",
       "      <td>0</td>\n",
       "      <td>0</td>\n",
       "      <td>0</td>\n",
       "      <td>0</td>\n",
       "      <td>1</td>\n",
       "    </tr>\n",
       "    <tr>\n",
       "      <th>2</th>\n",
       "      <td>90000</td>\n",
       "      <td>2</td>\n",
       "      <td>34</td>\n",
       "      <td>0</td>\n",
       "      <td>0</td>\n",
       "      <td>0</td>\n",
       "      <td>0</td>\n",
       "      <td>0</td>\n",
       "      <td>0</td>\n",
       "      <td>29239</td>\n",
       "      <td>...</td>\n",
       "      <td>1000</td>\n",
       "      <td>1000</td>\n",
       "      <td>5000</td>\n",
       "      <td>0</td>\n",
       "      <td>1</td>\n",
       "      <td>0</td>\n",
       "      <td>0</td>\n",
       "      <td>0</td>\n",
       "      <td>0</td>\n",
       "      <td>1</td>\n",
       "    </tr>\n",
       "    <tr>\n",
       "      <th>3</th>\n",
       "      <td>50000</td>\n",
       "      <td>1</td>\n",
       "      <td>37</td>\n",
       "      <td>0</td>\n",
       "      <td>0</td>\n",
       "      <td>0</td>\n",
       "      <td>0</td>\n",
       "      <td>0</td>\n",
       "      <td>0</td>\n",
       "      <td>46990</td>\n",
       "      <td>...</td>\n",
       "      <td>1100</td>\n",
       "      <td>1069</td>\n",
       "      <td>1000</td>\n",
       "      <td>0</td>\n",
       "      <td>1</td>\n",
       "      <td>0</td>\n",
       "      <td>0</td>\n",
       "      <td>0</td>\n",
       "      <td>0</td>\n",
       "      <td>1</td>\n",
       "    </tr>\n",
       "    <tr>\n",
       "      <th>4</th>\n",
       "      <td>50000</td>\n",
       "      <td>1</td>\n",
       "      <td>57</td>\n",
       "      <td>-1</td>\n",
       "      <td>0</td>\n",
       "      <td>-1</td>\n",
       "      <td>0</td>\n",
       "      <td>0</td>\n",
       "      <td>0</td>\n",
       "      <td>8617</td>\n",
       "      <td>...</td>\n",
       "      <td>9000</td>\n",
       "      <td>689</td>\n",
       "      <td>679</td>\n",
       "      <td>0</td>\n",
       "      <td>0</td>\n",
       "      <td>1</td>\n",
       "      <td>0</td>\n",
       "      <td>0</td>\n",
       "      <td>0</td>\n",
       "      <td>1</td>\n",
       "    </tr>\n",
       "  </tbody>\n",
       "</table>\n",
       "<p>5 rows × 28 columns</p>\n",
       "</div>"
      ],
      "text/plain": [
       "   LIMIT_BAL  MARRIAGE  AGE  PAY_0  PAY_2  PAY_3  PAY_4  PAY_5  PAY_6  \\\n",
       "0      20000         1   24      2      2     -1     -1     -2     -2   \n",
       "1     120000         2   26     -1      2      0      0      0      2   \n",
       "2      90000         2   34      0      0      0      0      0      0   \n",
       "3      50000         1   37      0      0      0      0      0      0   \n",
       "4      50000         1   57     -1      0     -1      0      0      0   \n",
       "\n",
       "   BILL_AMT1  ...  PAY_AMT4  PAY_AMT5  PAY_AMT6  default  SEX_female  \\\n",
       "0       3913  ...         0         0         0        1           1   \n",
       "1       2682  ...      1000         0      2000        1           1   \n",
       "2      29239  ...      1000      1000      5000        0           1   \n",
       "3      46990  ...      1100      1069      1000        0           1   \n",
       "4       8617  ...      9000       689       679        0           0   \n",
       "\n",
       "   SEX_male  EDUCATION_graduate school  EDUCATION_high school  \\\n",
       "0         0                          0                      0   \n",
       "1         0                          0                      0   \n",
       "2         0                          0                      0   \n",
       "3         0                          0                      0   \n",
       "4         1                          0                      0   \n",
       "\n",
       "   EDUCATION_other  EDUCATION_university  \n",
       "0                0                     1  \n",
       "1                0                     1  \n",
       "2                0                     1  \n",
       "3                0                     1  \n",
       "4                0                     1  \n",
       "\n",
       "[5 rows x 28 columns]"
      ]
     },
     "execution_count": 2,
     "metadata": {},
     "output_type": "execute_result"
    }
   ],
   "source": [
    "#data\n",
    "rawData = pd.read_csv('creditNew.csv', header=0)\n",
    "rawData.head()"
   ]
  },
  {
   "cell_type": "code",
   "execution_count": 3,
   "metadata": {},
   "outputs": [],
   "source": [
    "#These will be the variables for when limit balance is the dependant variable\n",
    "#The L at the end of the names means we are refering to Limit Balance\n",
    "\n",
    "#dependent variable\n",
    "YdataL = rawData[\"LIMIT_BAL\"]\n",
    "\n",
    "#independent variable\n",
    "XdataL = rawData.drop([\"LIMIT_BAL\"], axis = 1)\n",
    "\n",
    "\n",
    "X_trainL, X_testL, Y_trainL, Y_testL = train_test_split(XdataL, YdataL, test_size = .30, random_state = 123)"
   ]
  },
  {
   "cell_type": "code",
   "execution_count": 4,
   "metadata": {},
   "outputs": [],
   "source": [
    "#Selecting our Model\n",
    "model = LinearRegression(n_jobs=10)"
   ]
  },
  {
   "cell_type": "code",
   "execution_count": 5,
   "metadata": {},
   "outputs": [
    {
     "name": "stdout",
     "output_type": "stream",
     "text": [
      "[0.39439776 0.33770001 0.40073498 0.44624716 0.32934238]\n"
     ]
    }
   ],
   "source": [
    "#Find how good tthis model is for predicting \n",
    "print(cross_val_score(model, XdataL, YdataL, cv=5)) "
   ]
  },
  {
   "cell_type": "code",
   "execution_count": 6,
   "metadata": {},
   "outputs": [],
   "source": [
    "algosClass = []\n",
    "algosClass.append(('Random Forest Regressor',RandomForestRegressor()))\n",
    "algosClass.append(('Linear Regression',LinearRegression()))\n",
    "algosClass.append(('Support Vector Regression',SVR()))"
   ]
  },
  {
   "cell_type": "code",
   "execution_count": 7,
   "metadata": {},
   "outputs": [
    {
     "name": "stdout",
     "output_type": "stream",
     "text": [
      "Random Forest Regressor 0.7721057176409462\n",
      "Linear Regression 0.38168445897951886\n",
      "Support Vector Regression -0.04039480526893739\n"
     ]
    }
   ],
   "source": [
    "#regression\n",
    "results = []\n",
    "names = []\n",
    "for name, model in algosClass:\n",
    "    result = cross_val_score(model, XdataL,YdataL, cv=5, scoring='r2')\n",
    "    names.append(name)\n",
    "    results.append(result)\n",
    "\n",
    "for i in range(len(names)):\n",
    "    print(names[i],results[i].mean())"
   ]
  },
  {
   "cell_type": "code",
   "execution_count": 8,
   "metadata": {},
   "outputs": [],
   "source": [
    "#Based on the above results, it seems Random Forest seems to be the best algo, so we will use that to build a model\n",
    "\n",
    "algo = RandomForestRegressor()\n",
    "\n",
    "modelRF = algo.fit(X_trainL, Y_trainL)"
   ]
  },
  {
   "cell_type": "code",
   "execution_count": 9,
   "metadata": {},
   "outputs": [
    {
     "name": "stdout",
     "output_type": "stream",
     "text": [
      "R Squared: 0.614\n",
      "RMSE: 79127.641\n"
     ]
    }
   ],
   "source": [
    "predictions = modelRF.predict(X_testL)\n",
    "rmse = sqrt(mean_squared_error(Y_testL, predictions))\n",
    "\n",
    "predRsquared = r2_score(Y_testL,predictions)\n",
    "print('R Squared: %.3f' % predRsquared)\n",
    "print('RMSE: %.3f' % rmse)"
   ]
  },
  {
   "cell_type": "code",
   "execution_count": 10,
   "metadata": {},
   "outputs": [
    {
     "data": {
      "image/png": "[encoded data removed]",
      "text/plain": [
       "<Figure size 640x480 with 1 Axes>"
      ]
     },
     "metadata": {},
     "output_type": "display_data"
    }
   ],
   "source": [
    "plt.scatter(Y_testL, predictions, color=['blue'], alpha = 0.5)\n",
    "plt.xlabel('Ground Truth')\n",
    "plt.ylabel('Predictions')\n",
    "plt.show()"
   ]
  },
  {
   "cell_type": "code",
   "execution_count": 11,
   "metadata": {},
   "outputs": [
    {
     "name": "stdout",
     "output_type": "stream",
     "text": [
      "[0, 9999, 19999, 29999, 39999, 49999, 59999, 69999, 79999, 89999, 99999, 109999, 119999, 129999, 139999, 149999, 159999, 169999, 179999, 189999, 199999, 209999, 219999, 229999, 239999, 249999, 259999, 269999, 279999, 289999, 299999, 309999, 319999, 329999, 339999, 349999, 359999, 369999, 379999, 389999, 399999, 409999, 419999, 429999, 439999, 449999, 459999, 469999, 479999, 489999, 499999, 509999, 519999, 529999, 539999, 549999, 559999, 569999, 579999, 589999, 599999, 609999, 619999, 629999, 639999, 649999, 659999, 669999, 679999, 689999, 699999, 709999, 719999, 729999, 739999, 749999, 759999, 769999, 779999, 789999, 799999, 809999, 819999, 829999, 839999, 849999, 859999, 869999, 879999, 889999, 899999, 909999, 919999, 929999, 939999, 949999, 959999, 969999, 979999, 989999, 999999, 1009999]\n"
     ]
    }
   ],
   "source": [
    "limitBalBucket = []\n",
    "\n",
    "for i in range(102):\n",
    "    if i == 0:\n",
    "        limitBalBucket.append(0)\n",
    "    else:\n",
    "        limitBalBucket.append(((i)*10000)-1)\n",
    "\n",
    "#print(len(limitBalBucket))\n",
    "print(limitBalBucket)\n",
    "\n",
    "YdataL2 = pd.cut(rawData[\"LIMIT_BAL\"], limitBalBucket, labels = False)\n",
    "\n",
    "\n",
    "\n"
   ]
  },
  {
   "cell_type": "code",
   "execution_count": 12,
   "metadata": {},
   "outputs": [
    {
     "name": "stdout",
     "output_type": "stream",
     "text": [
      "0        2\n",
      "1       12\n",
      "2        9\n",
      "3        5\n",
      "4        5\n",
      "        ..\n",
      "3663    22\n",
      "3664     7\n",
      "3665    12\n",
      "3666    18\n",
      "3667     5\n",
      "Name: LIMIT_BAL, Length: 3668, dtype: int64\n"
     ]
    }
   ],
   "source": [
    "\n",
    "print(YdataL2)\n",
    "\n",
    "\n"
   ]
  },
  {
   "cell_type": "code",
   "execution_count": 13,
   "metadata": {},
   "outputs": [
    {
     "name": "stdout",
     "output_type": "stream",
     "text": [
      "0        20000\n",
      "1       120000\n",
      "2        90000\n",
      "3        50000\n",
      "4        50000\n",
      "         ...  \n",
      "3663    220000\n",
      "3664     70000\n",
      "3665    120000\n",
      "3666    180000\n",
      "3667     50000\n",
      "Name: LIMIT_BAL, Length: 3668, dtype: int64\n"
     ]
    }
   ],
   "source": [
    "print(rawData[\"LIMIT_BAL\"])"
   ]
  },
  {
   "cell_type": "code",
   "execution_count": 14,
   "metadata": {},
   "outputs": [
    {
     "name": "stdout",
     "output_type": "stream",
     "text": [
      "              precision    recall  f1-score   support\n",
      "\n",
      "           1       0.59      0.77      0.67        13\n",
      "           2       0.72      0.66      0.69        65\n",
      "           3       0.57      0.56      0.56        63\n",
      "           4       0.45      0.45      0.45        11\n",
      "           5       0.65      0.76      0.70       115\n",
      "           6       0.78      0.58      0.67        31\n",
      "           7       0.61      0.50      0.55        34\n",
      "           8       0.51      0.53      0.52        49\n",
      "           9       0.50      0.64      0.56        25\n",
      "          10       0.53      0.55      0.54        31\n",
      "          11       0.50      0.70      0.58        23\n",
      "          12       0.55      0.50      0.52        32\n",
      "          13       0.41      0.58      0.48        24\n",
      "          14       0.68      0.51      0.58        37\n",
      "          15       0.46      0.46      0.46        41\n",
      "          16       0.52      0.56      0.54        27\n",
      "          17       0.45      0.56      0.50        16\n",
      "          18       0.46      0.47      0.47        40\n",
      "          19       0.44      0.80      0.57         5\n",
      "          20       0.57      0.40      0.47        62\n",
      "          21       0.60      0.60      0.60        35\n",
      "          22       0.48      0.62      0.54        16\n",
      "          23       0.45      0.45      0.45        33\n",
      "          24       0.57      0.57      0.57        21\n",
      "          25       0.44      0.29      0.35        14\n",
      "          26       0.35      0.37      0.36        19\n",
      "          27       0.50      0.54      0.52        13\n",
      "          28       0.61      0.69      0.65        16\n",
      "          29       0.57      0.36      0.44        11\n",
      "          30       0.45      0.53      0.49        19\n",
      "          31       0.75      0.25      0.38        12\n",
      "          32       0.27      0.57      0.36         7\n",
      "          33       0.50      0.50      0.50         8\n",
      "          34       1.00      0.20      0.33         5\n",
      "          35       0.38      0.38      0.38         8\n",
      "          36       0.60      0.43      0.50        42\n",
      "          38       0.44      0.67      0.53         6\n",
      "          39       0.50      0.29      0.36         7\n",
      "          40       0.75      0.40      0.52        15\n",
      "          41       0.50      1.00      0.67         2\n",
      "          42       1.00      0.75      0.86         4\n",
      "          43       0.00      0.00      0.00         1\n",
      "          44       0.50      1.00      0.67         1\n",
      "          45       0.25      0.29      0.27         7\n",
      "          47       0.33      0.33      0.33         3\n",
      "          48       0.33      0.33      0.33         3\n",
      "          49       1.00      0.67      0.80         3\n",
      "          50       0.32      0.47      0.38        17\n",
      "          51       0.50      1.00      0.67         1\n",
      "          55       0.00      0.00      0.00         1\n",
      "          58       1.00      1.00      1.00         1\n",
      "          60       1.00      1.00      1.00         1\n",
      "          61       0.00      0.00      0.00         0\n",
      "          62       0.00      0.00      0.00         2\n",
      "          63       1.00      1.00      1.00         1\n",
      "          68       0.00      0.00      0.00         0\n",
      "          70       1.00      1.00      1.00         1\n",
      "         100       0.00      0.00      0.00         1\n",
      "\n",
      "    accuracy                           0.55      1101\n",
      "   macro avg       0.52      0.52      0.50      1101\n",
      "weighted avg       0.56      0.55      0.54      1101\n",
      "\n"
     ]
    },
    {
     "name": "stderr",
     "output_type": "stream",
     "text": [
      "c:\\ProgramData\\anaconda3\\lib\\site-packages\\sklearn\\metrics\\_classification.py:1344: UndefinedMetricWarning: Precision and F-score are ill-defined and being set to 0.0 in labels with no predicted samples. Use `zero_division` parameter to control this behavior.\n",
      "  _warn_prf(average, modifier, msg_start, len(result))\n",
      "c:\\ProgramData\\anaconda3\\lib\\site-packages\\sklearn\\metrics\\_classification.py:1344: UndefinedMetricWarning: Recall and F-score are ill-defined and being set to 0.0 in labels with no true samples. Use `zero_division` parameter to control this behavior.\n",
      "  _warn_prf(average, modifier, msg_start, len(result))\n",
      "c:\\ProgramData\\anaconda3\\lib\\site-packages\\sklearn\\metrics\\_classification.py:1344: UndefinedMetricWarning: Precision and F-score are ill-defined and being set to 0.0 in labels with no predicted samples. Use `zero_division` parameter to control this behavior.\n",
      "  _warn_prf(average, modifier, msg_start, len(result))\n",
      "c:\\ProgramData\\anaconda3\\lib\\site-packages\\sklearn\\metrics\\_classification.py:1344: UndefinedMetricWarning: Recall and F-score are ill-defined and being set to 0.0 in labels with no true samples. Use `zero_division` parameter to control this behavior.\n",
      "  _warn_prf(average, modifier, msg_start, len(result))\n",
      "c:\\ProgramData\\anaconda3\\lib\\site-packages\\sklearn\\metrics\\_classification.py:1344: UndefinedMetricWarning: Precision and F-score are ill-defined and being set to 0.0 in labels with no predicted samples. Use `zero_division` parameter to control this behavior.\n",
      "  _warn_prf(average, modifier, msg_start, len(result))\n",
      "c:\\ProgramData\\anaconda3\\lib\\site-packages\\sklearn\\metrics\\_classification.py:1344: UndefinedMetricWarning: Recall and F-score are ill-defined and being set to 0.0 in labels with no true samples. Use `zero_division` parameter to control this behavior.\n",
      "  _warn_prf(average, modifier, msg_start, len(result))\n"
     ]
    }
   ],
   "source": [
    "X_trainL2, X_testL2, Y_trainL2, Y_testL2 = train_test_split(XdataL, YdataL2, test_size = .30, random_state = 123)\n",
    "\n",
    "#X_trainL, X_testL, Y_trainL, Y_testL = train_test_split(XdataL, YdataL2, test_size = .30, random_state = 123)\n",
    "\n",
    "algoDTC = DecisionTreeClassifier()\n",
    "modelDTC = algoDTC.fit(X_trainL2,Y_trainL2)\n",
    "\n",
    "predDTC = modelDTC.predict(X_testL2)\n",
    "\n",
    "print(classification_report(Y_testL2, predDTC))\n"
   ]
  },
  {
   "cell_type": "code",
   "execution_count": 15,
   "metadata": {},
   "outputs": [
    {
     "name": "stderr",
     "output_type": "stream",
     "text": [
      "c:\\ProgramData\\anaconda3\\lib\\site-packages\\sklearn\\model_selection\\_split.py:700: UserWarning: The least populated class in y has only 1 members, which is less than n_splits=5.\n",
      "  warnings.warn(\n"
     ]
    },
    {
     "name": "stdout",
     "output_type": "stream",
     "text": [
      "[0.99455041 0.76294278 0.11989101 0.75989086 0.99317872]\n"
     ]
    }
   ],
   "source": [
    "modelDTC = DecisionTreeClassifier()\n",
    "print(cross_val_score(modelDTC, XdataL, YdataL2, cv=5))"
   ]
  },
  {
   "cell_type": "code",
   "execution_count": 21,
   "metadata": {},
   "outputs": [
    {
     "name": "stderr",
     "output_type": "stream",
     "text": [
      "c:\\ProgramData\\anaconda3\\lib\\site-packages\\sklearn\\model_selection\\_split.py:700: UserWarning: The least populated class in y has only 1 members, which is less than n_splits=5.\n",
      "  warnings.warn(\n"
     ]
    },
    {
     "name": "stdout",
     "output_type": "stream",
     "text": [
      "This is Classification Test Result for Limit Balance as the dependant variable )\n",
      "Random Forest Classifier 0.753619368724699\n",
      "Decision Tree Classifier 0.7282720780934608\n"
     ]
    },
    {
     "name": "stderr",
     "output_type": "stream",
     "text": [
      "c:\\ProgramData\\anaconda3\\lib\\site-packages\\sklearn\\model_selection\\_split.py:700: UserWarning: The least populated class in y has only 1 members, which is less than n_splits=5.\n",
      "  warnings.warn(\n"
     ]
    }
   ],
   "source": [
    "algos_Class = []\n",
    "algos_Class.append(('Random Forest Classifier', RandomForestClassifier()))\n",
    "algos_Class.append(('Decision Tree Classifier', DecisionTreeClassifier()))\n",
    "\n",
    "\n",
    "#classification\n",
    "results = []\n",
    "names = []\n",
    "for name, model in algos_Class:\n",
    "    result = cross_val_score(model, XdataL,YdataL2, cv=5, scoring='accuracy')\n",
    "    names.append(name)\n",
    "    results.append(result)\n",
    "\n",
    "\n",
    "print(\"This is Classification Test Result for Limit Balance as the dependant variable )\")\n",
    "for i in range(len(names)):\n",
    "    print(names[i],results[i].mean())"
   ]
  },
  {
   "cell_type": "code",
   "execution_count": 17,
   "metadata": {},
   "outputs": [
    {
     "name": "stdout",
     "output_type": "stream",
     "text": [
      "              precision    recall  f1-score   support\n",
      "\n",
      "           0       0.92      0.89      0.91       874\n",
      "           1       0.63      0.70      0.66       227\n",
      "\n",
      "    accuracy                           0.85      1101\n",
      "   macro avg       0.77      0.80      0.78      1101\n",
      "weighted avg       0.86      0.85      0.86      1101\n",
      "\n"
     ]
    }
   ],
   "source": [
    "YdataD = rawData[\"default\"]\n",
    "XdataD = rawData.drop([\"default\"], axis = 1)\n",
    "\n",
    "\n",
    "X_trainD, X_testD, Y_trainD, Y_testD = train_test_split(XdataD, YdataD, test_size = .30, random_state = 123)\n",
    "\n",
    "algoDTC = DecisionTreeClassifier()\n",
    "modelDTC = algoDTC.fit(X_trainD,Y_trainD)\n",
    "\n",
    "predDTC = modelDTC.predict(X_testD)\n",
    "\n",
    "print(classification_report(Y_testD, predDTC))"
   ]
  },
  {
   "cell_type": "code",
   "execution_count": 18,
   "metadata": {},
   "outputs": [
    {
     "name": "stdout",
     "output_type": "stream",
     "text": [
      "[1.         0.92779292 0.72479564 0.91950887 1.        ]\n"
     ]
    }
   ],
   "source": [
    "modelDTC = DecisionTreeClassifier()\n",
    "print(cross_val_score(modelDTC, XdataD, YdataD, cv=5))"
   ]
  },
  {
   "cell_type": "code",
   "execution_count": 22,
   "metadata": {},
   "outputs": [
    {
     "name": "stdout",
     "output_type": "stream",
     "text": [
      "This is for when Default or not is the dependant variable )\n",
      "Random Forest Classifier 0.938404749248172\n",
      "Decision Tree Classifier 0.9116950607967704\n"
     ]
    }
   ],
   "source": [
    "algos_Class = []\n",
    "algos_Class.append(('Random Forest Classifier', RandomForestClassifier()))\n",
    "algos_Class.append(('Decision Tree Classifier', DecisionTreeClassifier()))\n",
    "\n",
    "\n",
    "#classification\n",
    "results = []\n",
    "names = []\n",
    "for name, model in algos_Class:\n",
    "    result = cross_val_score(model, XdataD,YdataD, cv=5, scoring='accuracy')\n",
    "    names.append(name)\n",
    "    results.append(result)\n",
    "\n",
    "\n",
    "print(\"This is for when Default or not is the dependant variable )\")\n",
    "for i in range(len(names)):\n",
    "    print(names[i],results[i].mean())\n"
   ]
  }
 ],
 "metadata": {
  "kernelspec": {
   "display_name": "base",
   "language": "python",
   "name": "python3"
  },
  "language_info": {
   "codemirror_mode": {
    "name": "ipython",
    "version": 3
   },
   "file_extension": ".py",
   "mimetype": "text/x-python",
   "name": "python",
   "nbconvert_exporter": "python",
   "pygments_lexer": "ipython3",
   "version": "3.10.9"
  },
  "orig_nbformat": 4
 },
 "nbformat": 4,
 "nbformat_minor": 2
}
